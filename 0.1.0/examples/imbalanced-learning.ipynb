{
 "cells": [
  {
   "cell_type": "markdown",
   "metadata": {},
   "source": [
    "# Working with imbalanced data"
   ]
  },
  {
   "cell_type": "markdown",
   "metadata": {},
   "source": [
    "In machine learning it is quite usual to have to deal with imbalanced dataset. This is particularly true in online learning for tasks such as fraud detection and spam classification. In these two cases, which are binary classification problems, there are usually many more 0s than 1s, which generally hinders the performance of the classifiers we thrown at them.\n",
    "\n",
    "As an example we'll use the credit card dataset available in `river`. We'll first use a `collections.Counter` to count the number of 0s and 1s in order to get an idea of the class balance."
   ]
  },
  {
   "cell_type": "code",
   "execution_count": 1,
   "metadata": {
    "execution": {
     "iopub.execute_input": "2020-11-20T00:16:01.654415Z",
     "iopub.status.busy": "2020-11-20T00:16:01.653524Z",
     "iopub.status.idle": "2020-11-20T00:16:10.922409Z",
     "shell.execute_reply": "2020-11-20T00:16:10.922852Z"
    }
   },
   "outputs": [
    {
     "name": "stdout",
     "output_type": "stream",
     "text": [
      "Downloading https://maxhalford.github.io/files/datasets/creditcardfraud.zip (65.95 MB)\n",
      "Uncompressing into /home/travis/river_data/CreditCard\n",
      "0: 284315 (99.82725%)\n",
      "1: 492 (0.17275%)\n"
     ]
    }
   ],
   "source": [
    "import collections\n",
    "from river import datasets\n",
    "\n",
    "X_y = datasets.CreditCard()\n",
    "\n",
    "counts = collections.Counter(y for _, y in X_y)\n",
    "\n",
    "for c, count in counts.items():\n",
    "    print(f'{c}: {count} ({count / sum(counts.values()):.5%})')"
   ]
  },
  {
   "cell_type": "markdown",
   "metadata": {},
   "source": [
    "## Baseline"
   ]
  },
  {
   "cell_type": "markdown",
   "metadata": {},
   "source": [
    "The dataset is quite unbalanced. For each 1 there are about 578 0s. Let's now train a logistic regression with default parameters and see how well it does. We'll measure the ROC AUC score."
   ]
  },
  {
   "cell_type": "code",
   "execution_count": 2,
   "metadata": {
    "execution": {
     "iopub.execute_input": "2020-11-20T00:16:10.929790Z",
     "iopub.status.busy": "2020-11-20T00:16:10.928831Z",
     "iopub.status.idle": "2020-11-20T00:17:56.281153Z",
     "shell.execute_reply": "2020-11-20T00:17:56.280679Z"
    }
   },
   "outputs": [
    {
     "data": {
      "text/plain": [
       "ROCAUC: 0.891072"
      ]
     },
     "execution_count": 1,
     "metadata": {},
     "output_type": "execute_result"
    }
   ],
   "source": [
    "from river import linear_model\n",
    "from river import metrics\n",
    "from river import evaluate\n",
    "from river import preprocessing\n",
    "\n",
    "\n",
    "X_y = datasets.CreditCard()\n",
    "\n",
    "model = (\n",
    "    preprocessing.StandardScaler() |\n",
    "    linear_model.LogisticRegression()\n",
    ")\n",
    "\n",
    "metric = metrics.ROCAUC()\n",
    "\n",
    "evaluate.progressive_val_score(X_y, model, metric)"
   ]
  },
  {
   "cell_type": "markdown",
   "metadata": {},
   "source": [
    "## Importance weighting"
   ]
  },
  {
   "cell_type": "markdown",
   "metadata": {},
   "source": [
    "The performance is already quite acceptable, but as we will now see we can do even better. The first thing we can do is to add weight to the 1s by using the `weight_pos` argument of the `Log` loss function."
   ]
  },
  {
   "cell_type": "code",
   "execution_count": 3,
   "metadata": {
    "execution": {
     "iopub.execute_input": "2020-11-20T00:17:56.287822Z",
     "iopub.status.busy": "2020-11-20T00:17:56.286918Z",
     "iopub.status.idle": "2020-11-20T00:19:40.739633Z",
     "shell.execute_reply": "2020-11-20T00:19:40.740068Z"
    }
   },
   "outputs": [
    {
     "data": {
      "text/plain": [
       "ROCAUC: 0.914269"
      ]
     },
     "execution_count": 1,
     "metadata": {},
     "output_type": "execute_result"
    }
   ],
   "source": [
    "from river import optim\n",
    "\n",
    "model = (\n",
    "    preprocessing.StandardScaler() |\n",
    "    linear_model.LogisticRegression(\n",
    "        loss=optim.losses.Log(weight_pos=5)\n",
    "    )\n",
    ")\n",
    "\n",
    "metric = metrics.ROCAUC()\n",
    "\n",
    "evaluate.progressive_val_score(X_y, model, metric)"
   ]
  },
  {
   "cell_type": "markdown",
   "metadata": {},
   "source": [
    "## Focal loss\n",
    "\n",
    "The deep learning for object detection community has produced a special loss function for imbalaced learning called [focal loss](https://arxiv.org/pdf/1708.02002.pdf). We are doing binary classification, so we can plug the binary version of focal loss into our logistic regression and see how well it fairs."
   ]
  },
  {
   "cell_type": "code",
   "execution_count": 4,
   "metadata": {
    "execution": {
     "iopub.execute_input": "2020-11-20T00:19:40.746066Z",
     "iopub.status.busy": "2020-11-20T00:19:40.745165Z",
     "iopub.status.idle": "2020-11-20T00:21:27.009170Z",
     "shell.execute_reply": "2020-11-20T00:21:27.008713Z"
    }
   },
   "outputs": [
    {
     "data": {
      "text/plain": [
       "ROCAUC: 0.913072"
      ]
     },
     "execution_count": 1,
     "metadata": {},
     "output_type": "execute_result"
    }
   ],
   "source": [
    "model = (\n",
    "    preprocessing.StandardScaler() |\n",
    "    linear_model.LogisticRegression(loss=optim.losses.BinaryFocalLoss(2, 1))\n",
    ")\n",
    "\n",
    "metric = metrics.ROCAUC()\n",
    "\n",
    "evaluate.progressive_val_score(X_y, model, metric)"
   ]
  },
  {
   "cell_type": "markdown",
   "metadata": {},
   "source": [
    "## Under-sampling the majority class"
   ]
  },
  {
   "cell_type": "markdown",
   "metadata": {},
   "source": [
    "Adding importance weights only works with gradient-based models (which includes neural networks). A more generic, and potentially more effective approach, is to use undersamplig and oversampling. As an example, we'll under-sample the stream so that our logistic regression encounter 20% of 1s and 80% of 0s. Under-sampling has the additional benefit of requiring less training steps, and thus reduces the total training time."
   ]
  },
  {
   "cell_type": "code",
   "execution_count": 5,
   "metadata": {
    "execution": {
     "iopub.execute_input": "2020-11-20T00:21:27.199183Z",
     "iopub.status.busy": "2020-11-20T00:21:27.015365Z",
     "iopub.status.idle": "2020-11-20T00:23:01.804148Z",
     "shell.execute_reply": "2020-11-20T00:23:01.803648Z"
    }
   },
   "outputs": [
    {
     "data": {
      "text/plain": [
       "ROCAUC: 0.948824"
      ]
     },
     "execution_count": 1,
     "metadata": {},
     "output_type": "execute_result"
    }
   ],
   "source": [
    "from river import imblearn\n",
    "\n",
    "model = (\n",
    "    preprocessing.StandardScaler() |\n",
    "    imblearn.RandomUnderSampler(\n",
    "        classifier=linear_model.LogisticRegression(),\n",
    "        desired_dist={0: .8, 1: .2},\n",
    "        seed=42\n",
    "    )\n",
    ")\n",
    "\n",
    "metric = metrics.ROCAUC()\n",
    "\n",
    "evaluate.progressive_val_score(X_y, model, metric)"
   ]
  },
  {
   "cell_type": "markdown",
   "metadata": {},
   "source": [
    "The `RandomUnderSampler` class is a wrapper for classifiers. This is represented by a rectangle around the logistic regression bubble when we draw the model."
   ]
  },
  {
   "cell_type": "code",
   "execution_count": 6,
   "metadata": {
    "execution": {
     "iopub.execute_input": "2020-11-20T00:23:01.809154Z",
     "iopub.status.busy": "2020-11-20T00:23:01.808629Z",
     "iopub.status.idle": "2020-11-20T00:23:01.848891Z",
     "shell.execute_reply": "2020-11-20T00:23:01.847721Z"
    }
   },
   "outputs": [
    {
     "data": {
      "image/svg+xml": [
       "<?xml version=\"1.0\" encoding=\"UTF-8\" standalone=\"no\"?>\n",
       "<!DOCTYPE svg PUBLIC \"-//W3C//DTD SVG 1.1//EN\"\n",
       " \"http://www.w3.org/Graphics/SVG/1.1/DTD/svg11.dtd\">\n",
       "<!-- Generated by graphviz version 2.38.0 (20140413.2041)\n",
       " -->\n",
       "<!-- Title: %3 Pages: 1 -->\n",
       "<svg width=\"240pt\" height=\"263pt\"\n",
       " viewBox=\"0.00 0.00 240.00 263.00\" xmlns=\"http://www.w3.org/2000/svg\" xmlns:xlink=\"http://www.w3.org/1999/xlink\">\n",
       "<g id=\"graph0\" class=\"graph\" transform=\"scale(1 1) rotate(0) translate(4 259)\">\n",
       "<title>%3</title>\n",
       "<polygon fill=\"white\" stroke=\"none\" points=\"-4,4 -4,-259 236,-259 236,4 -4,4\"/>\n",
       "<g id=\"clust1\" class=\"cluster\"><title>cluster_RandomUnderSampler</title>\n",
       "<polygon fill=\"none\" stroke=\"black\" points=\"8,-64 8,-139 224,-139 224,-64 8,-64\"/>\n",
       "<text text-anchor=\"middle\" x=\"116\" y=\"-123.8\" font-family=\"Times,serif\" font-size=\"14.00\">RandomUnderSampler</text>\n",
       "</g>\n",
       "<!-- x -->\n",
       "<g id=\"node1\" class=\"node\"><title>x</title>\n",
       "<ellipse fill=\"none\" stroke=\"black\" cx=\"116\" cy=\"-237\" rx=\"27\" ry=\"18\"/>\n",
       "<text text-anchor=\"middle\" x=\"116\" y=\"-233.3\" font-family=\"Times,serif\" font-size=\"14.00\">x</text>\n",
       "</g>\n",
       "<!-- StandardScaler -->\n",
       "<g id=\"node2\" class=\"node\"><title>StandardScaler</title>\n",
       "<ellipse fill=\"none\" stroke=\"black\" cx=\"116\" cy=\"-165\" rx=\"82.5854\" ry=\"18\"/>\n",
       "<text text-anchor=\"middle\" x=\"116\" y=\"-161.3\" font-family=\"Times,serif\" font-size=\"14.00\">StandardScaler</text>\n",
       "</g>\n",
       "<!-- x&#45;&gt;StandardScaler -->\n",
       "<g id=\"edge1\" class=\"edge\"><title>x&#45;&gt;StandardScaler</title>\n",
       "<path fill=\"none\" stroke=\"black\" d=\"M116,-218.697C116,-210.983 116,-201.712 116,-193.112\"/>\n",
       "<polygon fill=\"black\" stroke=\"black\" points=\"119.5,-193.104 116,-183.104 112.5,-193.104 119.5,-193.104\"/>\n",
       "</g>\n",
       "<!-- LogisticRegression -->\n",
       "<g id=\"node3\" class=\"node\"><title>LogisticRegression</title>\n",
       "<ellipse fill=\"none\" stroke=\"black\" cx=\"116\" cy=\"-90\" rx=\"100.182\" ry=\"18\"/>\n",
       "<text text-anchor=\"middle\" x=\"116\" y=\"-86.3\" font-family=\"Times,serif\" font-size=\"14.00\">LogisticRegression</text>\n",
       "</g>\n",
       "<!-- StandardScaler&#45;&gt;LogisticRegression -->\n",
       "<g id=\"edge3\" class=\"edge\"><title>StandardScaler&#45;&gt;LogisticRegression</title>\n",
       "<path fill=\"none\" stroke=\"black\" d=\"M116,-146.7C116,-138.245 116,-127.869 116,-118.373\"/>\n",
       "<polygon fill=\"black\" stroke=\"black\" points=\"119.5,-118.176 116,-108.176 112.5,-118.176 119.5,-118.176\"/>\n",
       "</g>\n",
       "<!-- y -->\n",
       "<g id=\"node4\" class=\"node\"><title>y</title>\n",
       "<ellipse fill=\"none\" stroke=\"black\" cx=\"116\" cy=\"-18\" rx=\"27\" ry=\"18\"/>\n",
       "<text text-anchor=\"middle\" x=\"116\" y=\"-14.3\" font-family=\"Times,serif\" font-size=\"14.00\">y</text>\n",
       "</g>\n",
       "<!-- LogisticRegression&#45;&gt;y -->\n",
       "<g id=\"edge2\" class=\"edge\"><title>LogisticRegression&#45;&gt;y</title>\n",
       "<path fill=\"none\" stroke=\"black\" d=\"M116,-71.6966C116,-63.9827 116,-54.7125 116,-46.1124\"/>\n",
       "<polygon fill=\"black\" stroke=\"black\" points=\"119.5,-46.1043 116,-36.1043 112.5,-46.1044 119.5,-46.1043\"/>\n",
       "</g>\n",
       "</g>\n",
       "</svg>\n"
      ],
      "text/plain": [
       "<graphviz.dot.Digraph at 0x7f6a7a980f28>"
      ]
     },
     "execution_count": 1,
     "metadata": {},
     "output_type": "execute_result"
    }
   ],
   "source": [
    "model.draw()"
   ]
  },
  {
   "cell_type": "markdown",
   "metadata": {},
   "source": [
    "## Over-sampling the minority class"
   ]
  },
  {
   "cell_type": "markdown",
   "metadata": {},
   "source": [
    "We can also attain the same class distribution by over-sampling the minority class. This will come at cost of having to train with more samples."
   ]
  },
  {
   "cell_type": "code",
   "execution_count": 7,
   "metadata": {
    "execution": {
     "iopub.execute_input": "2020-11-20T00:23:02.550249Z",
     "iopub.status.busy": "2020-11-20T00:23:01.856100Z",
     "iopub.status.idle": "2020-11-20T00:24:51.177013Z",
     "shell.execute_reply": "2020-11-20T00:24:51.176544Z"
    }
   },
   "outputs": [
    {
     "data": {
      "text/plain": [
       "ROCAUC: 0.918082"
      ]
     },
     "execution_count": 1,
     "metadata": {},
     "output_type": "execute_result"
    }
   ],
   "source": [
    "model = (\n",
    "    preprocessing.StandardScaler() |\n",
    "    imblearn.RandomOverSampler(\n",
    "        classifier=linear_model.LogisticRegression(),\n",
    "        desired_dist={0: .8, 1: .2},\n",
    "        seed=42\n",
    "    )\n",
    ")\n",
    "\n",
    "metric = metrics.ROCAUC()\n",
    "\n",
    "evaluate.progressive_val_score(X_y, model, metric)"
   ]
  },
  {
   "cell_type": "markdown",
   "metadata": {},
   "source": [
    "## Sampling with a desired sample size\n",
    "\n",
    "The downside of both `RandomUnderSampler` and `RandomOverSampler` is that you don't have any control on the amount of data the classifier trains on. The number of samples is adjusted so that the target distribution can be attained, either by under-sampling or over-sampling. However, you can do both at the same time and choose how much data the classifier will see. To do so, we can use the `RandomSampler` class. In addition to the desired class distribution, we can specify how much data to train on. The samples will both be under-sampled and over-sampled in order to fit your constraints. This is powerful because it allows you to control both the class distribution and the size of the training data (and thus the training time). In the following example we'll set it so that the model will train with 1 percent of the data."
   ]
  },
  {
   "cell_type": "code",
   "execution_count": 8,
   "metadata": {
    "execution": {
     "iopub.execute_input": "2020-11-20T00:24:51.183986Z",
     "iopub.status.busy": "2020-11-20T00:24:51.183107Z",
     "iopub.status.idle": "2020-11-20T00:26:25.585945Z",
     "shell.execute_reply": "2020-11-20T00:26:25.585079Z"
    }
   },
   "outputs": [
    {
     "data": {
      "text/plain": [
       "ROCAUC: 0.951296"
      ]
     },
     "execution_count": 1,
     "metadata": {},
     "output_type": "execute_result"
    }
   ],
   "source": [
    "model = (\n",
    "    preprocessing.StandardScaler() |\n",
    "    imblearn.RandomSampler(\n",
    "        classifier=linear_model.LogisticRegression(),\n",
    "        desired_dist={0: .8, 1: .2},\n",
    "        sampling_rate=.01,\n",
    "        seed=42\n",
    "    )\n",
    ")\n",
    "\n",
    "metric = metrics.ROCAUC()\n",
    "\n",
    "evaluate.progressive_val_score(X_y, model, metric)"
   ]
  },
  {
   "cell_type": "markdown",
   "metadata": {},
   "source": [
    "## Hybrid approach\n",
    "\n",
    "As you might have guessed by now, nothing is stopping you from mixing imbalanced learning methods together. As an example, let's combine `sampling.RandomUnderSampler` and the `weight_pos` parameter from the `optim.losses.Log` loss function."
   ]
  },
  {
   "cell_type": "code",
   "execution_count": 9,
   "metadata": {
    "execution": {
     "iopub.execute_input": "2020-11-20T00:26:25.593120Z",
     "iopub.status.busy": "2020-11-20T00:26:25.592170Z",
     "iopub.status.idle": "2020-11-20T00:28:00.340500Z",
     "shell.execute_reply": "2020-11-20T00:28:00.340027Z"
    }
   },
   "outputs": [
    {
     "data": {
      "text/plain": [
       "ROCAUC: 0.968289"
      ]
     },
     "execution_count": 1,
     "metadata": {},
     "output_type": "execute_result"
    }
   ],
   "source": [
    "model = (\n",
    "    preprocessing.StandardScaler() |\n",
    "    imblearn.RandomUnderSampler(\n",
    "        classifier=linear_model.LogisticRegression(\n",
    "            loss=optim.losses.Log(weight_pos=5)\n",
    "        ),\n",
    "        desired_dist={0: .8, 1: .2},\n",
    "        seed=42\n",
    "    )\n",
    ")\n",
    "\n",
    "metric = metrics.ROCAUC()\n",
    "\n",
    "evaluate.progressive_val_score(X_y, model, metric)"
   ]
  }
 ],
 "metadata": {
  "kernelspec": {
   "display_name": "Python 3",
   "language": "python",
   "name": "python3"
  },
  "language_info": {
   "codemirror_mode": {
    "name": "ipython",
    "version": 3
   },
   "file_extension": ".py",
   "mimetype": "text/x-python",
   "name": "python",
   "nbconvert_exporter": "python",
   "pygments_lexer": "ipython3",
   "version": "3.6.7"
  }
 },
 "nbformat": 4,
 "nbformat_minor": 4
}
