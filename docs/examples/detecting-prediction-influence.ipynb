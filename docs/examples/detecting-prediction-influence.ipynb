{
 "metadata": {
  "language_info": {
   "codemirror_mode": {
    "name": "ipython",
    "version": 3
   },
   "file_extension": ".py",
   "mimetype": "text/x-python",
   "name": "python",
   "nbconvert_exporter": "python",
   "pygments_lexer": "ipython3",
   "version": "3.8.6-final"
  },
  "orig_nbformat": 2,
  "kernelspec": {
   "name": "python3",
   "display_name": "Python 3",
   "language": "python"
  }
 },
 "nbformat": 4,
 "nbformat_minor": 2,
 "cells": [
  {
   "cell_type": "code",
   "execution_count": 1,
   "metadata": {},
   "outputs": [],
   "source": [
    "from river import synth\n",
    "from river import preprocessing\n",
    "from river import evaluate\n",
    "from river import metrics\n",
    "from river import datasets\n",
    "from river import tree\n",
    "from river import compose\n",
    "from river import optim"
   ]
  },
  {
   "cell_type": "code",
   "execution_count": 2,
   "metadata": {},
   "outputs": [],
   "source": [
    "streams = []\n",
    "\n",
    "for x in range(5):\n",
    "    streams.append(synth.RandomRBF(seed_model=30+x, seed_sample=30, n_classes=2, n_features=4, n_centroids=20, class_weights=[0,1]))\n",
    "    streams.append(synth.RandomRBF(seed_model=50+x, seed_sample=30, n_classes=2, n_features=4, n_centroids=20, class_weights=[1,0]))\n",
    "\n",
    "X_y = synth.PredictionInfluenceStream(stream= streams)"
   ]
  },
  {
   "cell_type": "code",
   "execution_count": 3,
   "metadata": {},
   "outputs": [
    {
     "output_type": "stream",
     "name": "stdout",
     "text": [
      "[100] Accuracy: 52.53%\n[200] Accuracy: 52.26%\nfeature:  0\np value TP FN  0.013036493033874838\np value TP FN  0.0009996707167178552\nfeature:  1\np value TP FN  0.026456353486824676\np value TP FN  0.0009262048860019654\nfeature:  2\np value TP FN  0.5224966895191772\np value TP FN  0.0004694268782791761\nfeature:  3\np value TP FN  0.05504704365393272\np value TP FN  0.753466254523944\n[300] Accuracy: 49.83%\nfeature:  0\np value TP FN  0.7728267996242623\np value TP FN  0.0002709006209415617\nfeature:  1\np value TP FN  0.007118779102357402\np value TP FN  0.016867122489558503\nfeature:  2\np value TP FN  0.5700034768259996\np value TP FN  0.05341842892061235\nfeature:  3\np value TP FN  0.3012959981458032\np value TP FN  0.9088278411724938\n[400] Accuracy: 50.63%\nfeature:  0\np value TP FN  0.39998960256786253\np value TP FN  0.8114606283962584\nfeature:  1\np value TP FN  0.0007611224004895825\np value TP FN  0.4629634608703327\nfeature:  2\np value TP FN  0.05681078603018424\np value TP FN  0.8832936982051011\nfeature:  3\np value TP FN  0.14788856716705756\np value TP FN  0.011334393238858272\n             0      1\n      0    136     66\n      1    132     66\n[0.9979830361346915, 1.0029799321847317, 0.9989770232527428, 0.9930040838136224, 0.9920130637549435, 0.999986000090998, 1.011042021692172, 1.003987932046538, 0.9979830361346913, 1.0059959059016512]\n"
     ]
    },
    {
     "output_type": "execute_result",
     "data": {
      "text/plain": [
       "Accuracy: 50.50%"
      ]
     },
     "metadata": {},
     "execution_count": 3
    }
   ],
   "source": [
    "model = preprocessing.StandardScaler()\n",
    "model |= tree.HoeffdingAdaptiveTreeClassifier(grace_period=100, split_confidence=1e-5, leaf_prediction='nb', nb_threshold=10, seed=0)\n",
    "\n",
    "metric = metrics.Accuracy()\n",
    "\n",
    "evaluate.evaluate_influential(X_y, model, metric, print_every=100, comparison_block = 100, intervals = 4, max_samples=400, prior = 1)"
   ]
  },
  {
   "cell_type": "code",
   "execution_count": null,
   "metadata": {},
   "outputs": [],
   "source": []
  }
 ]
}